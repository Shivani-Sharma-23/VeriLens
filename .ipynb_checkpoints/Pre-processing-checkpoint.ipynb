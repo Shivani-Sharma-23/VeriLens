{
 "cells": [
  {
   "cell_type": "code",
   "execution_count": 1,
   "id": "6fa881c9",
   "metadata": {},
   "outputs": [],
   "source": [
    "import warnings\n",
    "warnings.filterwarnings('ignore', category=UserWarning) \n",
    "warnings.filterwarnings('ignore', category=FutureWarning)"
   ]
  },
  {
   "cell_type": "code",
   "execution_count": 2,
   "id": "70fc02fc",
   "metadata": {},
   "outputs": [],
   "source": [
    "import os\n",
    "from PIL import Image"
   ]
  },
  {
   "cell_type": "code",
   "execution_count": 11,
   "id": "6430c1ea",
   "metadata": {},
   "outputs": [],
   "source": [
    "import os\n",
    "import matplotlib.pyplot as plt"
   ]
  },
  {
   "cell_type": "code",
   "execution_count": 3,
   "id": "e4dbc938",
   "metadata": {},
   "outputs": [],
   "source": [
    "input_dir = \"Dataset\" \n",
    "output_dir = \"preprocessed_data\" \n",
    "categories = ['training_fake', 'training_real']\n",
    "new_categories = ['fake', 'real']"
   ]
  },
  {
   "cell_type": "code",
   "execution_count": 4,
   "id": "217f7117",
   "metadata": {},
   "outputs": [],
   "source": [
    "os.makedirs(output_dir, exist_ok=True)\n",
    "for category in new_categories:\n",
    "    os.makedirs(os.path.join(output_dir, category), exist_ok=True)"
   ]
  },
  {
   "cell_type": "code",
   "execution_count": 5,
   "id": "c0ee36a3",
   "metadata": {},
   "outputs": [],
   "source": [
    "def preprocess_image(image_path, target_size=(15, 15)):\n",
    "    try:\n",
    "        img = Image.open(image_path)\n",
    "        img = img.resize(target_size, Image.ANTIALIAS)\n",
    "        img = img.convert('RGB')\n",
    "        return img\n",
    "    except Exception as e:\n",
    "        print(f\"Error processing image {image_path}: {e}\")\n",
    "        return None"
   ]
  },
  {
   "cell_type": "code",
   "execution_count": 6,
   "id": "4c60cba5",
   "metadata": {},
   "outputs": [],
   "source": [
    "def process_and_move_images():\n",
    "    for category, new_category in zip(categories, new_categories):\n",
    "        category_path = os.path.join(input_dir, category)\n",
    "        new_category_path = os.path.join(output_dir, new_category)\n",
    "        \n",
    "        for filename in os.listdir(category_path):\n",
    "            file_path = os.path.join(category_path, filename)\n",
    "            preprocessed_img = preprocess_image(file_path)\n",
    "            \n",
    "            if preprocessed_img:\n",
    "                new_file_path = os.path.join(new_category_path, filename)\n",
    "                preprocessed_img.save(new_file_path)"
   ]
  },
  {
   "cell_type": "code",
   "execution_count": 7,
   "id": "9878b2b2",
   "metadata": {},
   "outputs": [
    {
     "name": "stderr",
     "output_type": "stream",
     "text": [
      "C:\\Users\\shiva\\AppData\\Local\\Temp\\ipykernel_16588\\2784625116.py:4: DeprecationWarning: ANTIALIAS is deprecated and will be removed in Pillow 10 (2023-07-01). Use LANCZOS or Resampling.LANCZOS instead.\n",
      "  img = img.resize(target_size, Image.ANTIALIAS)\n"
     ]
    },
    {
     "name": "stdout",
     "output_type": "stream",
     "text": [
      "Preprocessing and organization completed.\n"
     ]
    }
   ],
   "source": [
    "process_and_move_images()\n",
    "print(\"Preprocessing and organization completed.\")"
   ]
  },
  {
   "cell_type": "code",
   "execution_count": 16,
   "id": "66289984",
   "metadata": {},
   "outputs": [
    {
     "data": {
      "image/png": "[encoded data removed]",
      "text/plain": [
       "<Figure size 500x600 with 1 Axes>"
      ]
     },
     "metadata": {},
     "output_type": "display_data"
    }
   ],
   "source": [
    "counts = {category: 0 for category in new_categories}\n",
    "\n",
    "for category in new_categories:\n",
    "    category_path = os.path.join(output_dir, category)\n",
    "    counts[category] = len(os.listdir(category_path))\n",
    "\n",
    "plt.figure(figsize=(5, 6))\n",
    "bars = plt.bar(counts.keys(), counts.values(), color=['blue', 'red'])\n",
    "plt.xlabel('Category')\n",
    "plt.ylabel('Number of Images')\n",
    "plt.title('Number of Images in Each Category')\n",
    "\n",
    "for bar in bars:\n",
    "        yval = bar.get_height()\n",
    "        plt.text(bar.get_x() + bar.get_width()/2, yval + 5, int(yval), ha='center', va='bottom')\n",
    "\n",
    "plt.show()"
   ]
  },
  {
   "cell_type": "code",
   "execution_count": null,
   "id": "835bcd36",
   "metadata": {},
   "outputs": [],
   "source": []
  }
 ],
 "metadata": {
  "kernelspec": {
   "display_name": "Python 3 (ipykernel)",
   "language": "python",
   "name": "python3"
  },
  "language_info": {
   "codemirror_mode": {
    "name": "ipython",
    "version": 3
   },
   "file_extension": ".py",
   "mimetype": "text/x-python",
   "name": "python",
   "nbconvert_exporter": "python",
   "pygments_lexer": "ipython3",
   "version": "3.11.4"
  }
 },
 "nbformat": 4,
 "nbformat_minor": 5
}
