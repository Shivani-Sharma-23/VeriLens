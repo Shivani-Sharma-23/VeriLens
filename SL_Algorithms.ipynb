{
 "cells": [
  {
   "cell_type": "code",
   "execution_count": 1,
   "id": "c1c575b4",
   "metadata": {},
   "outputs": [],
   "source": [
    "import warnings\n",
    "warnings.filterwarnings('ignore', category=UserWarning) \n",
    "warnings.filterwarnings('ignore', category=FutureWarning)"
   ]
  },
  {
   "cell_type": "code",
   "execution_count": 2,
   "id": "4522423c",
   "metadata": {},
   "outputs": [],
   "source": [
    "import os\n",
    "import pickle\n",
    "from skimage.io import imread\n",
    "from skimage.transform import resize\n",
    "import numpy as np\n",
    "from sklearn.model_selection import train_test_split\n",
    "from sklearn.preprocessing import StandardScaler, LabelEncoder\n",
    "from sklearn.svm import SVC\n",
    "from sklearn.neighbors import KNeighborsClassifier\n",
    "from sklearn.tree import DecisionTreeClassifier\n",
    "from sklearn.metrics import classification_report, accuracy_score\n",
    "from sklearn.model_selection import GridSearchCV"
   ]
  },
  {
   "cell_type": "code",
   "execution_count": 3,
   "id": "1ce03cae",
   "metadata": {},
   "outputs": [],
   "source": [
    "input_dir = \"preprocessed_data\"\n",
    "categories = ['real', 'fake']"
   ]
  },
  {
   "cell_type": "code",
   "execution_count": 4,
   "id": "ad461284",
   "metadata": {},
   "outputs": [],
   "source": [
    "data = []\n",
    "labels = []"
   ]
  },
  {
   "cell_type": "code",
   "execution_count": 5,
   "id": "43a966c9",
   "metadata": {},
   "outputs": [],
   "source": [
    "for category_idx, category in enumerate(categories):\n",
    "    category_path = os.path.join(input_dir, category)\n",
    "    for file in os.listdir(category_path):\n",
    "        img_path = os.path.join(category_path, file)\n",
    "        img = imread(img_path)\n",
    "        data.append(img.flatten())\n",
    "        labels.append(category)"
   ]
  },
  {
   "cell_type": "code",
   "execution_count": 6,
   "id": "6646b90f",
   "metadata": {},
   "outputs": [],
   "source": [
    "data = np.asarray(data)\n",
    "labels = np.asarray(labels)"
   ]
  },
  {
   "cell_type": "code",
   "execution_count": 7,
   "id": "bce87dc3",
   "metadata": {},
   "outputs": [],
   "source": [
    "label_encoder = LabelEncoder()\n",
    "labels = label_encoder.fit_transform(labels)"
   ]
  },
  {
   "cell_type": "code",
   "execution_count": 8,
   "id": "806e16f7",
   "metadata": {},
   "outputs": [],
   "source": [
    "x_train, x_test, y_train, y_test = train_test_split(data, labels, test_size=0.2, shuffle=True, stratify=labels)"
   ]
  },
  {
   "cell_type": "code",
   "execution_count": 9,
   "id": "e1e29f3b",
   "metadata": {},
   "outputs": [
    {
     "name": "stdout",
     "output_type": "stream",
     "text": [
      "SVM Accuracy: 0.530562347188264\n",
      "\n",
      "SVM Classification Report:\n",
      "               precision    recall  f1-score   support\n",
      "\n",
      "           0       0.00      0.00      0.00       192\n",
      "           1       0.53      1.00      0.69       217\n",
      "\n",
      "    accuracy                           0.53       409\n",
      "   macro avg       0.27      0.50      0.35       409\n",
      "weighted avg       0.28      0.53      0.37       409\n",
      "\n"
     ]
    }
   ],
   "source": [
    "# SVM\n",
    "svm_classifier = SVC()\n",
    "parameters = [{'gamma': [0.01, 0.001, 0.0001], 'C': [1, 10, 100, 1000]}]\n",
    "grid_search = GridSearchCV(svm_classifier, parameters)\n",
    "grid_search.fit(x_train, y_train)\n",
    "best_estimator = grid_search.best_estimator_\n",
    "y_prediction = best_estimator.predict(x_test)\n",
    "svm_accuracy = accuracy_score(y_test, y_prediction)\n",
    "print(\"SVM Accuracy:\", svm_accuracy)\n",
    "svm_classification_report = classification_report(y_test, y_prediction)\n",
    "print(\"\\nSVM Classification Report:\\n\", svm_classification_report)"
   ]
  },
  {
   "cell_type": "code",
   "execution_count": 10,
   "id": "e1487e65",
   "metadata": {},
   "outputs": [
    {
     "name": "stdout",
     "output_type": "stream",
     "text": [
      "KNN Accuracy: 0.5599022004889975\n",
      "\n",
      "KNN Classification Report:\n",
      "               precision    recall  f1-score   support\n",
      "\n",
      "           0       0.53      0.53      0.53       192\n",
      "           1       0.59      0.59      0.59       217\n",
      "\n",
      "    accuracy                           0.56       409\n",
      "   macro avg       0.56      0.56      0.56       409\n",
      "weighted avg       0.56      0.56      0.56       409\n",
      "\n"
     ]
    }
   ],
   "source": [
    "# KNN\n",
    "knn_model = KNeighborsClassifier()\n",
    "knn_model.fit(x_train, y_train)\n",
    "knn_predictions = knn_model.predict(x_test)\n",
    "knn_accuracy = accuracy_score(y_test, knn_predictions)\n",
    "print(\"KNN Accuracy:\", knn_accuracy)\n",
    "knn_classification_report = classification_report(y_test, knn_predictions)\n",
    "print(\"\\nKNN Classification Report:\\n\", knn_classification_report)"
   ]
  },
  {
   "cell_type": "code",
   "execution_count": 11,
   "id": "c8fbee47",
   "metadata": {},
   "outputs": [
    {
     "name": "stdout",
     "output_type": "stream",
     "text": [
      "\n",
      "Decision Tree Accuracy: 0.5476772616136919\n",
      "Decision Tree Classification Report:\n",
      "               precision    recall  f1-score   support\n",
      "\n",
      "           0       0.52      0.54      0.53       192\n",
      "           1       0.58      0.56      0.57       217\n",
      "\n",
      "    accuracy                           0.55       409\n",
      "   macro avg       0.55      0.55      0.55       409\n",
      "weighted avg       0.55      0.55      0.55       409\n",
      "\n"
     ]
    }
   ],
   "source": [
    "# Decision Tree\n",
    "dt_model = DecisionTreeClassifier()\n",
    "dt_model.fit(x_train, y_train)\n",
    "dt_predictions = dt_model.predict(x_test)\n",
    "dt_accuracy = accuracy_score(y_test, dt_predictions)\n",
    "print(\"\\nDecision Tree Accuracy:\", dt_accuracy)\n",
    "dt_classification_report = classification_report(y_test, dt_predictions)\n",
    "print(\"Decision Tree Classification Report:\\n\", dt_classification_report)"
   ]
  }
 ],
 "metadata": {
  "kernelspec": {
   "display_name": "Python 3 (ipykernel)",
   "language": "python",
   "name": "python3"
  },
  "language_info": {
   "codemirror_mode": {
    "name": "ipython",
    "version": 3
   },
   "file_extension": ".py",
   "mimetype": "text/x-python",
   "name": "python",
   "nbconvert_exporter": "python",
   "pygments_lexer": "ipython3",
   "version": "3.11.4"
  }
 },
 "nbformat": 4,
 "nbformat_minor": 5
}
